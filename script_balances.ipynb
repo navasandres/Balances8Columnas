{
 "cells": [
  {
   "cell_type": "code",
   "execution_count": 1,
   "metadata": {},
   "outputs": [
    {
     "name": "stdout",
     "output_type": "stream",
     "text": [
      "El archivo Excel se ha creado exitosamente.\n"
     ]
    }
   ],
   "source": [
    "import pandas as pd\n",
    "from datetime import datetime, timedelta\n",
    "import openpyxl\n",
    "\n",
    "# Definir fecha del primer balance, en este caso el archivo del ejemplo comienza en enero de 2021.\n",
    "fecha_inicio = datetime(2021, 1, 1)\n",
    "\n",
    "archivo_excel = pd.ExcelFile('2021 Balances mensuales.xlsx')\n",
    "df_final = pd.DataFrame()\n",
    "\n",
    "# Función auxiliar para cambiar la fecha\n",
    "def incrementar_mes(fecha, meses):\n",
    "    year = fecha.year + ((fecha.month + meses - 1) // 12)\n",
    "    month = ((fecha.month + meses - 1) % 12) + 1\n",
    "    return datetime(year, month, 1)\n",
    "\n",
    "for i, hoja in enumerate(archivo_excel.sheet_names):\n",
    "    df_temporal = pd.read_excel(archivo_excel, hoja, usecols=[0, 1, 2, 3])\n",
    "    fecha_actual = incrementar_mes(fecha_inicio, i)\n",
    "    df_temporal.insert(0, 'Fecha', fecha_actual)\n",
    "    df_final = pd.concat([df_final, df_temporal])\n",
    "\n",
    "nombre_archivo_salida = 'Balance Consolidado-2021CIDERE.xlsx'\n",
    "df_final.to_excel(nombre_archivo_salida, index=False)\n",
    "\n",
    "archivo_excel.close()\n",
    "\n",
    "print(\"El archivo Excel se ha creado exitosamente.\")"
   ]
  },
  {
   "cell_type": "markdown",
   "metadata": {},
   "source": [
    "FAC-EL975-1\n",
    "FAC-EL991-1\n",
    "FAC-XE45-1"
   ]
  }
 ],
 "metadata": {
  "kernelspec": {
   "display_name": "Python 3",
   "language": "python",
   "name": "python3"
  },
  "language_info": {
   "codemirror_mode": {
    "name": "ipython",
    "version": 3
   },
   "file_extension": ".py",
   "mimetype": "text/x-python",
   "name": "python",
   "nbconvert_exporter": "python",
   "pygments_lexer": "ipython3",
   "version": "3.10.2"
  },
  "orig_nbformat": 4
 },
 "nbformat": 4,
 "nbformat_minor": 2
}
